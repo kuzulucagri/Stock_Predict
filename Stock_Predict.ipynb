{
 "cells": [
  {
   "cell_type": "markdown",
   "metadata": {},
   "source": [
    "# Import Libraries"
   ]
  },
  {
   "cell_type": "code",
   "execution_count": 1,
   "metadata": {},
   "outputs": [],
   "source": [
    "import numpy as np\n",
    "import matplotlib.pyplot as plt\n",
    "import pandas as pd\n",
    "import pandas_datareader as web\n",
    "import datetime as dt\n",
    "\n",
    "from sklearn.preprocessing import MinMaxScaler\n",
    "from tensorflow.keras.models import Sequential\n",
    "from tensorflow.keras.layers import Dense, Dropout, LSTM"
   ]
  },
  {
   "cell_type": "markdown",
   "metadata": {},
   "source": [
    "# Load dataset"
   ]
  },
  {
   "cell_type": "code",
   "execution_count": 2,
   "metadata": {},
   "outputs": [],
   "source": [
    "#Load data\n",
    "company = \"FB\"\n",
    "\n",
    "start = dt.datetime(2013,1,1)\n",
    "end = dt.datetime(2021,1,1)"
   ]
  },
  {
   "cell_type": "code",
   "execution_count": 3,
   "metadata": {},
   "outputs": [],
   "source": [
    "data = web.DataReader(company,\"yahoo\",start,end)"
   ]
  },
  {
   "cell_type": "markdown",
   "metadata": {},
   "source": [
    "# Data Preparation"
   ]
  },
  {
   "cell_type": "code",
   "execution_count": 4,
   "metadata": {},
   "outputs": [],
   "source": [
    "#Scaling Data\n",
    "scaler = MinMaxScaler(feature_range=(0,1))\n",
    "scaled_data = scaler.fit_transform(data[\"Close\"].values.reshape(-1,1))"
   ]
  },
  {
   "cell_type": "code",
   "execution_count": 5,
   "metadata": {},
   "outputs": [],
   "source": [
    "prediction_days = 60\n",
    "\n",
    "#Define x_train and y_train\n",
    "x_train = []\n",
    "y_train = []\n",
    "\n",
    "#Loop for training datas\n",
    "for x in range(prediction_days,len(scaled_data)):\n",
    "    x_train.append(scaled_data[x-prediction_days:x,0])\n",
    "    y_train.append(scaled_data[x,0])\n",
    "    \n",
    "x_train, y_train = np.array(x_train), np.array(y_train)\n",
    "x_train = np.reshape(x_train,(x_train.shape[0],x_train.shape[1],1))   "
   ]
  },
  {
   "cell_type": "markdown",
   "metadata": {},
   "source": [
    "# Model Preparation"
   ]
  },
  {
   "cell_type": "code",
   "execution_count": 6,
   "metadata": {},
   "outputs": [
    {
     "name": "stdout",
     "output_type": "stream",
     "text": [
      "Epoch 1/25\n",
      "62/62 [==============================] - 11s 66ms/step - loss: 0.0430\n",
      "Epoch 2/25\n",
      "62/62 [==============================] - 4s 67ms/step - loss: 0.0035\n",
      "Epoch 3/25\n",
      "62/62 [==============================] - 4s 67ms/step - loss: 0.0028\n",
      "Epoch 4/25\n",
      "62/62 [==============================] - 4s 68ms/step - loss: 0.0025\n",
      "Epoch 5/25\n",
      "62/62 [==============================] - 4s 67ms/step - loss: 0.0024\n",
      "Epoch 6/25\n",
      "62/62 [==============================] - 4s 67ms/step - loss: 0.0026\n",
      "Epoch 7/25\n",
      "62/62 [==============================] - 4s 70ms/step - loss: 0.0023\n",
      "Epoch 8/25\n",
      "62/62 [==============================] - 4s 67ms/step - loss: 0.0026\n",
      "Epoch 9/25\n",
      "62/62 [==============================] - 4s 67ms/step - loss: 0.0020\n",
      "Epoch 10/25\n",
      "62/62 [==============================] - 4s 67ms/step - loss: 0.0020\n",
      "Epoch 11/25\n",
      "62/62 [==============================] - 4s 71ms/step - loss: 0.0020\n",
      "Epoch 12/25\n",
      "62/62 [==============================] - 4s 67ms/step - loss: 0.0017\n",
      "Epoch 13/25\n",
      "62/62 [==============================] - 4s 67ms/step - loss: 0.0022\n",
      "Epoch 14/25\n",
      "62/62 [==============================] - 4s 67ms/step - loss: 0.0018\n",
      "Epoch 15/25\n",
      "62/62 [==============================] - 4s 67ms/step - loss: 0.0016\n",
      "Epoch 16/25\n",
      "62/62 [==============================] - 4s 68ms/step - loss: 0.0019\n",
      "Epoch 17/25\n",
      "62/62 [==============================] - 4s 67ms/step - loss: 0.0017\n",
      "Epoch 18/25\n",
      "62/62 [==============================] - 4s 67ms/step - loss: 0.0015\n",
      "Epoch 19/25\n",
      "62/62 [==============================] - 4s 67ms/step - loss: 0.0013\n",
      "Epoch 20/25\n",
      "62/62 [==============================] - 4s 67ms/step - loss: 0.0016\n",
      "Epoch 21/25\n",
      "62/62 [==============================] - 4s 67ms/step - loss: 0.0015\n",
      "Epoch 22/25\n",
      "62/62 [==============================] - 4s 68ms/step - loss: 0.0015\n",
      "Epoch 23/25\n",
      "62/62 [==============================] - 4s 67ms/step - loss: 0.0013\n",
      "Epoch 24/25\n",
      "62/62 [==============================] - 4s 68ms/step - loss: 0.0014\n",
      "Epoch 25/25\n",
      "62/62 [==============================] - 4s 67ms/step - loss: 0.0015\n"
     ]
    },
    {
     "data": {
      "text/plain": [
       "<tensorflow.python.keras.callbacks.History at 0x2677df16ac0>"
      ]
     },
     "execution_count": 6,
     "metadata": {},
     "output_type": "execute_result"
    }
   ],
   "source": [
    "#Build the model\n",
    "model = Sequential()\n",
    "\n",
    "model.add(LSTM(units = 50, return_sequences = True,input_shape = (x_train.shape[1],1)))\n",
    "model.add(Dropout(0.2))\n",
    "model.add(LSTM(units = 50, return_sequences = True))\n",
    "model.add(Dropout(0.2))\n",
    "model.add(LSTM(units = 50))\n",
    "model.add(Dropout(0.2))\n",
    "\n",
    "#Prediction of the next closing layer\n",
    "model.add(Dense(units = 1)) \n",
    "\n",
    "#Compiling the model and use adam optimizer for better result\n",
    "model.compile(optimizer = \"adam\",loss = \"mean_squared_error\")\n",
    "model.fit(x_train,y_train,epochs = 25, batch_size =32)"
   ]
  },
  {
   "cell_type": "markdown",
   "metadata": {},
   "source": [
    "# Load Test Data"
   ]
  },
  {
   "cell_type": "code",
   "execution_count": 7,
   "metadata": {},
   "outputs": [],
   "source": [
    "test_start = dt.datetime(2020,1,1)\n",
    "test_end = dt.datetime.now()\n",
    "\n",
    "test_data = web.DataReader(company,\"yahoo\",test_start,test_end)\n",
    "actual_prices = test_data[\"Close\"].values\n",
    "\n",
    "total_dataset = pd.concat((data[\"Close\"],test_data[\"Close\"]),axis = 0)\n",
    "\n",
    "model_inputs = total_dataset[len(total_dataset) - len(test_data) - prediction_days:].values\n",
    "model_inputs = model_inputs.reshape(-1,1)\n",
    "model_inputs = scaler.transform(model_inputs)"
   ]
  },
  {
   "cell_type": "markdown",
   "metadata": {},
   "source": [
    "# Make Prediction on Test Data"
   ]
  },
  {
   "cell_type": "code",
   "execution_count": 8,
   "metadata": {},
   "outputs": [],
   "source": [
    "x_test = []\n",
    "\n",
    "for x in range(prediction_days, len(model_inputs)):\n",
    "    x_test.append(model_inputs[x-prediction_days:x,0])\n",
    "    \n",
    "x_test = np.array(x_test)\n",
    "x_test = np.reshape(x_test,(x_test.shape[0],x_test.shape[1],1))\n",
    "\n",
    "predicted_prices = model.predict(x_test)\n",
    "predicted_prices = scaler.inverse_transform(predicted_prices)"
   ]
  },
  {
   "cell_type": "markdown",
   "metadata": {},
   "source": [
    "# Display result on Plot"
   ]
  },
  {
   "cell_type": "code",
   "execution_count": 9,
   "metadata": {},
   "outputs": [
    {
     "data": {
      "image/png": "[encoded data removed]",
      "text/plain": [
       "<Figure size 432x288 with 1 Axes>"
      ]
     },
     "metadata": {
      "needs_background": "light"
     },
     "output_type": "display_data"
    }
   ],
   "source": [
    "plt.plot(actual_prices,color = \"blue\",label = f\"Actual {company} Price\")\n",
    "plt.plot(predicted_prices,color = \"black\",label = f\"Predicted {company} Price\")\n",
    "plt.title(f\"{company} Share Price\")\n",
    "plt.xlabel(\"Time\")\n",
    "plt.ylabel(f\"{company} Share Price\")\n",
    "plt.legend()\n",
    "plt.show()"
   ]
  },
  {
   "cell_type": "markdown",
   "metadata": {},
   "source": [
    "# Predict next day"
   ]
  },
  {
   "cell_type": "code",
   "execution_count": 11,
   "metadata": {},
   "outputs": [
    {
     "name": "stdout",
     "output_type": "stream",
     "text": [
      "Prediction: [[294.2405]]\n"
     ]
    }
   ],
   "source": [
    "real_data = [model_inputs[len(model_inputs) + 1 - prediction_days:len(model_inputs+1),0]]\n",
    "real_data = np.array(real_data)\n",
    "real_data = np.reshape(real_data,(real_data.shape[0],real_data.shape[1],1))\n",
    "\n",
    "prediction = model.predict(real_data)\n",
    "prediction = scaler.inverse_transform(prediction)\n",
    "print(f\"Prediction: {prediction}\")"
   ]
  },
  {
   "cell_type": "code",
   "execution_count": null,
   "metadata": {},
   "outputs": [],
   "source": []
  }
 ],
 "metadata": {
  "kernelspec": {
   "display_name": "Python 3",
   "language": "python",
   "name": "python3"
  },
  "language_info": {
   "codemirror_mode": {
    "name": "ipython",
    "version": 3
   },
   "file_extension": ".py",
   "mimetype": "text/x-python",
   "name": "python",
   "nbconvert_exporter": "python",
   "pygments_lexer": "ipython3",
   "version": "3.8.5"
  }
 },
 "nbformat": 4,
 "nbformat_minor": 4
}
